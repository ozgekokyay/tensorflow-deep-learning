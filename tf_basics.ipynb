{
  "nbformat": 4,
  "nbformat_minor": 0,
  "metadata": {
    "colab": {
      "name": "tf basics.ipynb",
      "private_outputs": true,
      "provenance": [],
      "include_colab_link": true
    },
    "kernelspec": {
      "name": "python3",
      "display_name": "Python 3"
    }
  },
  "cells": [
    {
      "cell_type": "markdown",
      "metadata": {
        "id": "view-in-github",
        "colab_type": "text"
      },
      "source": [
        "<a href=\"https://colab.research.google.com/github/ozgekokyay/tensorflow-deep-learning/blob/main/tf_basics.ipynb\" target=\"_parent\"><img src=\"https://colab.research.google.com/assets/colab-badge.svg\" alt=\"Open In Colab\"/></a>"
      ]
    },
    {
      "cell_type": "code",
      "metadata": {
        "id": "BVRJWpBziP4T"
      },
      "source": [
        "import tensorflow as tf\r\n",
        "\r\n"
      ],
      "execution_count": null,
      "outputs": []
    },
    {
      "cell_type": "code",
      "metadata": {
        "id": "KMUAe28siy9T"
      },
      "source": [
        "a = tf.Variable(5.2)\r\n",
        "b = tf.Variable(1.3)\r\n",
        "c = a * b\r\n",
        "c"
      ],
      "execution_count": null,
      "outputs": []
    },
    {
      "cell_type": "code",
      "metadata": {
        "id": "_mi33ZYFjEUm"
      },
      "source": [
        "c.numpy()"
      ],
      "execution_count": null,
      "outputs": []
    },
    {
      "cell_type": "code",
      "metadata": {
        "id": "bq2eyC_wje7U"
      },
      "source": [
        "d = tf.constant(3.5)\r\n",
        "e = a + d\r\n",
        "e"
      ],
      "execution_count": null,
      "outputs": []
    },
    {
      "cell_type": "code",
      "metadata": {
        "id": "Qs2lj96wj4tm"
      },
      "source": [
        "a = tf.Variable(5.2)\r\n",
        "a.assign(3.1)\r\n",
        "a.assign_add(1.2)\r\n",
        "a"
      ],
      "execution_count": null,
      "outputs": []
    },
    {
      "cell_type": "code",
      "metadata": {
        "id": "mOx83o9Dl5BT"
      },
      "source": [
        "a = tf.random.normal((2, 2), mean=0, stddev=1, dtype=tf.float32)\r\n",
        "a"
      ],
      "execution_count": null,
      "outputs": []
    },
    {
      "cell_type": "code",
      "metadata": {
        "id": "_L8mogF3mjTN"
      },
      "source": [
        "b = tf.random.uniform((2, 2), minval=0, maxval=2, dtype=tf.float32)\r\n",
        "b"
      ],
      "execution_count": null,
      "outputs": []
    },
    {
      "cell_type": "code",
      "metadata": {
        "id": "05ny3RZXnF_r"
      },
      "source": [
        "c = tf.matmul(a, b)\r\n",
        "c"
      ],
      "execution_count": null,
      "outputs": []
    },
    {
      "cell_type": "code",
      "metadata": {
        "id": "k5z_eSt-nYAi"
      },
      "source": [
        "from tensorflow.keras import layers\r\n",
        "model = tf.keras.models.Sequential([\r\n",
        "                            layers.Dense(4, activation='relu', input_shape=(2,), name='input_layer'),\r\n",
        "                            layers.Dense(10, activation='softmax')\r\n",
        "])\r\n",
        "model.summary()"
      ],
      "execution_count": null,
      "outputs": []
    },
    {
      "cell_type": "code",
      "metadata": {
        "id": "h5QGlUEvqpPe"
      },
      "source": [
        "d = model(c)\r\n",
        "d"
      ],
      "execution_count": null,
      "outputs": []
    },
    {
      "cell_type": "code",
      "metadata": {
        "id": "Zkg-_plwr-r-"
      },
      "source": [
        "(x_train, y_train), (x_test, y_test) = tf.keras.datasets.cifar10.load_data()\r\n"
      ],
      "execution_count": null,
      "outputs": []
    },
    {
      "cell_type": "code",
      "metadata": {
        "id": "97qFXlTosqxn"
      },
      "source": [
        "x_train.shape"
      ],
      "execution_count": null,
      "outputs": []
    }
  ]
}