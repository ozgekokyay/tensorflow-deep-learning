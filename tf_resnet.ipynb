{
  "nbformat": 4,
  "nbformat_minor": 0,
  "metadata": {
    "colab": {
      "name": "tf-resnet.ipynb",
      "private_outputs": true,
      "provenance": [],
      "include_colab_link": true
    },
    "kernelspec": {
      "name": "python3",
      "display_name": "Python 3"
    },
    "accelerator": "GPU"
  },
  "cells": [
    {
      "cell_type": "markdown",
      "metadata": {
        "id": "view-in-github",
        "colab_type": "text"
      },
      "source": [
        "<a href=\"https://colab.research.google.com/github/ozgekokyay/tensorflow-deep-learning/blob/main/tf_resnet.ipynb\" target=\"_parent\"><img src=\"https://colab.research.google.com/assets/colab-badge.svg\" alt=\"Open In Colab\"/></a>"
      ]
    },
    {
      "cell_type": "code",
      "metadata": {
        "id": "nVmFuuN7zYGQ"
      },
      "source": [
        "import tensorflow as tf\r\n",
        "tf.__version__"
      ],
      "execution_count": null,
      "outputs": []
    },
    {
      "cell_type": "code",
      "metadata": {
        "id": "Qyru6Lmnz34X"
      },
      "source": [
        "from tensorflow.keras import layers"
      ],
      "execution_count": null,
      "outputs": []
    },
    {
      "cell_type": "code",
      "metadata": {
        "id": "pFw4l-jW0BsP"
      },
      "source": [
        "def relu_bn(x):\r\n",
        "  relu = layers.ReLU()(x)\r\n",
        "  bn = layers.BatchNormalization()(relu)\r\n",
        "  return bn"
      ],
      "execution_count": null,
      "outputs": []
    },
    {
      "cell_type": "code",
      "metadata": {
        "id": "_JseMP2w09Vf"
      },
      "source": [
        "def residual_block(x, downsample, filters, kernel_size = 3):\r\n",
        "  y = layers.Conv2D(filters=filters, kernel_size=kernel_size, strides=(2 if downsample else 1), padding='same')(x)\r\n",
        "  y = relu_bn(y)\r\n",
        "  y = layers.Conv2D(filters=filters, kernel_size=kernel_size, strides=1, padding='same')(y)\r\n",
        "\r\n",
        "  if downsample:\r\n",
        "    x = layers.Conv2D(filters=filters, kernel_size=1, strides=2, padding='same')(x)\r\n",
        "\r\n",
        "  out = layers.Add()([x, y])\r\n",
        "  out = relu_bn(out)\r\n",
        "  return out"
      ],
      "execution_count": null,
      "outputs": []
    },
    {
      "cell_type": "code",
      "metadata": {
        "id": "XiKeWrd-31l3"
      },
      "source": [
        "def resnet(input_shape, num_classes, apply_softmax=False):\r\n",
        "  inputs = layers.Input(shape=input_shape)\r\n",
        "  num_filters = 64\r\n",
        "  num_blocks_list = [2, 5, 5, 2]\r\n",
        "  t = layers.BatchNormalization()(inputs)\r\n",
        "  t = layers.Conv2D(filters=num_filters, kernel_size=3, strides=1, padding='same')(t)\r\n",
        "  t = relu_bn(t)\r\n",
        "\r\n",
        "  for i in range(len(num_blocks_list)):\r\n",
        "    num_blocks = num_blocks_list[i]\r\n",
        "    for j in range(num_blocks):\r\n",
        "      t = residual_block(t, (j == 0 and i != 0), filters=num_filters)\r\n",
        "\r\n",
        "    num_filters *= 2\r\n",
        "\r\n",
        "  t = layers.AveragePooling2D(4)(t)\r\n",
        "  t = layers.Flatten()(t)\r\n",
        "  outputs = layers.Dense(num_classes, activation='softmax' if apply_softmax else None)(t)\r\n",
        "  \r\n",
        "  model = tf.keras.models.Model(inputs, outputs)\r\n",
        "  return model\r\n"
      ],
      "execution_count": null,
      "outputs": []
    },
    {
      "cell_type": "code",
      "metadata": {
        "id": "wBTW88BG9VbH"
      },
      "source": [
        "model = resnet(input_shape=(32, 32, 3), num_classes=10)\r\n",
        "model.summary()"
      ],
      "execution_count": null,
      "outputs": []
    },
    {
      "cell_type": "code",
      "metadata": {
        "id": "2pTshvJQ9ko2"
      },
      "source": [
        "tf.keras.utils.plot_model(model, to_file='resnet.png', show_dtype=True)"
      ],
      "execution_count": null,
      "outputs": []
    },
    {
      "cell_type": "code",
      "metadata": {
        "id": "aipP1uv0-rho"
      },
      "source": [
        "model.compile(optimizer='adam', loss=tf.keras.losses.SparseCategoricalCrossentropy(from_logits=True), metrics=['accuracy'])"
      ],
      "execution_count": null,
      "outputs": []
    },
    {
      "cell_type": "code",
      "metadata": {
        "id": "b5AIvt2Y-vJD"
      },
      "source": [
        "(x_train, y_train), (x_test, y_test) = tf.keras.datasets.cifar10.load_data()\r\n",
        "x_train = x_train.astype('float32')\r\n",
        "x_test = x_test.astype('float32')"
      ],
      "execution_count": null,
      "outputs": []
    },
    {
      "cell_type": "code",
      "metadata": {
        "id": "FiWdfhe7_LQd"
      },
      "source": [
        "model.fit(x_train, y_train, batch_size=64, epochs=20, validation_data=(x_test, y_test))"
      ],
      "execution_count": null,
      "outputs": []
    }
  ]
}