{
  "nbformat": 4,
  "nbformat_minor": 0,
  "metadata": {
    "colab": {
      "name": "TFFlowers.ipynb",
      "private_outputs": true,
      "provenance": [],
      "collapsed_sections": [],
      "include_colab_link": true
    },
    "kernelspec": {
      "name": "python3",
      "display_name": "Python 3"
    },
    "accelerator": "GPU"
  },
  "cells": [
    {
      "cell_type": "markdown",
      "metadata": {
        "id": "view-in-github",
        "colab_type": "text"
      },
      "source": [
        "<a href=\"https://colab.research.google.com/github/ozgekokyay/tensorflow-deep-learning/blob/main/TFFlowers.ipynb\" target=\"_parent\"><img src=\"https://colab.research.google.com/assets/colab-badge.svg\" alt=\"Open In Colab\"/></a>"
      ]
    },
    {
      "cell_type": "code",
      "metadata": {
        "id": "C_XzhcYZuEhu"
      },
      "source": [
        "import tensorflow_datasets as tfds\n",
        "import numpy as np\n",
        "import tensorflow as tf\n",
        "\n",
        "tf.__version__"
      ],
      "execution_count": null,
      "outputs": []
    },
    {
      "cell_type": "code",
      "metadata": {
        "id": "4raKvm4-uUPZ"
      },
      "source": [
        "splits = ['train[:90%]',\n",
        "          'train[90%:95%]',\n",
        "          'train[95%:]'\n",
        "          ]"
      ],
      "execution_count": null,
      "outputs": []
    },
    {
      "cell_type": "code",
      "metadata": {
        "id": "5Wuy9eiNvXnR"
      },
      "source": [
        "(train_ds, val_ds, test_ds), metadata = tfds.load('tf_flowers', \n",
        "                                                  split=splits, data_dir='./flowers', \n",
        "                                                  as_supervised=True, with_info=True)"
      ],
      "execution_count": null,
      "outputs": []
    },
    {
      "cell_type": "code",
      "metadata": {
        "id": "NsFjG14ZwkIj"
      },
      "source": [
        "metadata"
      ],
      "execution_count": null,
      "outputs": []
    },
    {
      "cell_type": "code",
      "metadata": {
        "id": "Awei2WO_0SGe"
      },
      "source": [
        "split_weights = (90, 5, 5)\n",
        "num_train, num_val, num_test = (int(metadata.splits['train'].num_examples * weight / 100) for weight in split_weights)\n",
        "num_train, num_val, num_test"
      ],
      "execution_count": null,
      "outputs": []
    },
    {
      "cell_type": "code",
      "metadata": {
        "id": "sUENljG11WQi"
      },
      "source": [
        "def resize_and_normalize(image, label):\n",
        "  image = tf.cast(image, tf.float32)\n",
        "  image = tf.image.resize(image, (128, 128))\n",
        "  image = image / 255.0\n",
        "  return image, label\n",
        "  "
      ],
      "execution_count": null,
      "outputs": []
    },
    {
      "cell_type": "code",
      "metadata": {
        "id": "btuZejsP2Bl7"
      },
      "source": [
        "def augment(image, label): \n",
        "  seed = (1,2)\n",
        "  image = tf.image.stateless_random_flip_left_right(image, seed=seed)\n",
        "  image = tf.image.stateless_random_brightness(image, 0.2, seed=seed)\n",
        "  image = tf.image.stateless_random_contrast(image, 0.8, 1.0, seed=seed)\n",
        "  return image, label\n"
      ],
      "execution_count": null,
      "outputs": []
    },
    {
      "cell_type": "code",
      "metadata": {
        "id": "FAlPHB5f2nlm"
      },
      "source": [
        "train_ds = train_ds.map(resize_and_normalize)\n",
        "val_ds = val_ds.map(resize_and_normalize)\n",
        "test_ds = test_ds.map(resize_and_normalize)\n"
      ],
      "execution_count": null,
      "outputs": []
    },
    {
      "cell_type": "code",
      "metadata": {
        "id": "Q_QFY9DY3NSu"
      },
      "source": [
        "train_ds =train_ds.map(augment)\n"
      ],
      "execution_count": null,
      "outputs": []
    },
    {
      "cell_type": "code",
      "metadata": {
        "id": "08JBQkJh3Xz0"
      },
      "source": [
        "train_ds = train_ds.shuffle(1024).batch(32)     \n",
        "val_ds = val_ds.batch(32)\n",
        "test_ds = test_ds.batch(32)\n",
        "train_ds = train_ds.prefetch(tf.data.experimental.AUTOTUNE)"
      ],
      "execution_count": null,
      "outputs": []
    },
    {
      "cell_type": "code",
      "metadata": {
        "id": "Qa6zmNsO50Kv"
      },
      "source": [
        "\n",
        "def create_model():\n",
        "    img_inputs = tf.keras.Input(shape=(128, 128, 3))\n",
        "    conv_1 = tf.keras.layers.Conv2D(16, (3, 3), activation='relu')(img_inputs)\n",
        "    maxpool_1 = tf.keras.layers.MaxPooling2D((2, 2))(conv_1)\n",
        "    conv_2 = tf.keras.layers.Conv2D(32, (3, 3), activation='relu')(maxpool_1)\n",
        "    maxpool_2 = tf.keras.layers.MaxPooling2D((2, 2))(conv_2)\n",
        "    conv_3 = tf.keras.layers.Conv2D(64, (3, 3), activation='relu')(maxpool_2)\n",
        "    maxpool_3 = tf.keras.layers.MaxPool2D((2, 2))(conv_3)\n",
        "    flatten = tf.keras.layers.Flatten()(conv_3)\n",
        "    drop_1 = tf.keras.layers.Dropout(0.2)(flatten)\n",
        "    dense_1 = tf.keras.layers.Dense(64, activation='relu')(drop_1)\n",
        "    drop_2 = tf.keras.layers.Dropout(0.5)(dense_1)\n",
        "    output = tf.keras.layers.Dense(metadata.features['label'].num_classes)(drop_2)\n",
        "\n",
        "    model = tf.keras.Model(inputs=img_inputs, outputs=output)\n",
        "    \n",
        "    return model\n"
      ],
      "execution_count": null,
      "outputs": []
    },
    {
      "cell_type": "code",
      "metadata": {
        "id": "fXQMlwpp526C"
      },
      "source": [
        "model = create_model()\n",
        "model.summary()"
      ],
      "execution_count": null,
      "outputs": []
    },
    {
      "cell_type": "code",
      "metadata": {
        "id": "rh02niI-6MLe"
      },
      "source": [
        "tf.keras.utils.plot_model(model, 'flower_model_with_shape_info.png', show_shapes=True)"
      ],
      "execution_count": null,
      "outputs": []
    },
    {
      "cell_type": "code",
      "metadata": {
        "id": "OZ24D3ir6o5r"
      },
      "source": [
        "import datetime, os\n",
        "\n",
        "log_dir=\"logs/fit/\" + datetime.datetime.now().strftime(\"%Y%m%d-%H%M%S\")\n",
        "os.makedirs(log_dir)"
      ],
      "execution_count": null,
      "outputs": []
    },
    {
      "cell_type": "code",
      "metadata": {
        "id": "kuq_RNqQ7Qea"
      },
      "source": [
        "steps_per_epoch = int(num_train) // 32\n",
        "validation_steps = int(num_val) // 32"
      ],
      "execution_count": null,
      "outputs": []
    },
    {
      "cell_type": "code",
      "metadata": {
        "id": "NMVrJalw7y0_"
      },
      "source": [
        "model.compile(optimizer='adam', loss=tf.keras.losses.SparseCategoricalCrossentropy(from_logits=True), metrics=['accuracy'])"
      ],
      "execution_count": null,
      "outputs": []
    },
    {
      "cell_type": "code",
      "metadata": {
        "id": "A7BYkarn8FOd"
      },
      "source": [
        "tensorboard_callback = tf.keras.callbacks.TensorBoard(log_dir=log_dir, histogram_freq=1)\n",
        "model_checkpoint_callback = tf.keras.callbacks.ModelCheckpoint(\n",
        "        'training_checkpoints/weights.{epoch:02d}-{val_loss:.2f}.hdf5', period=5)\n",
        "os.makedirs('training_checkpoints/', exist_ok=True)\n",
        "early_stopping_checkpoint = tf.keras.callbacks.EarlyStopping(patience=20)\n",
        "\n",
        "    "
      ],
      "execution_count": null,
      "outputs": []
    },
    {
      "cell_type": "code",
      "metadata": {
        "id": "vzWioTGOFghL"
      },
      "source": [
        "%load_ext tensorboard\n",
        "%tensorboard --logdir logs\n"
      ],
      "execution_count": null,
      "outputs": []
    },
    {
      "cell_type": "code",
      "metadata": {
        "id": "IrWimBfh8VtD"
      },
      "source": [
        "history = model.fit(train_ds.repeat(),\n",
        "              epochs=20, \n",
        "              steps_per_epoch=steps_per_epoch,\n",
        "              validation_data=val_ds.repeat(),\n",
        "              validation_steps=validation_steps,\n",
        "              callbacks=[tensorboard_callback,\n",
        "                         model_checkpoint_callback,\n",
        "                         early_stopping_checkpoint])\n",
        "    \n",
        "    "
      ],
      "execution_count": null,
      "outputs": []
    },
    {
      "cell_type": "code",
      "metadata": {
        "id": "aj5LAcH6Sey7"
      },
      "source": [
        "preds = model.predict(test_ds.take(1))"
      ],
      "execution_count": null,
      "outputs": []
    },
    {
      "cell_type": "code",
      "metadata": {
        "id": "BFyQbI0yTE0f"
      },
      "source": [
        "preds.shape, preds"
      ],
      "execution_count": null,
      "outputs": []
    },
    {
      "cell_type": "code",
      "metadata": {
        "id": "Mgipz3xJTW3K"
      },
      "source": [
        "preds_indices = np.argmax(preds, axis=-1)\n",
        "preds_indices.shape, preds_indices"
      ],
      "execution_count": null,
      "outputs": []
    },
    {
      "cell_type": "code",
      "metadata": {
        "id": "AyxBd46iUEBu"
      },
      "source": [
        ""
      ],
      "execution_count": null,
      "outputs": []
    }
  ]
}